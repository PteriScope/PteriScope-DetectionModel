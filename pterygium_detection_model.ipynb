{
 "cells": [
  {
   "cell_type": "markdown",
   "source": [
    "# 1 CARGAR EL MODELO PRE ENTRENADO"
   ],
   "metadata": {
    "collapsed": false
   }
  },
  {
   "cell_type": "code",
   "execution_count": 26,
   "outputs": [
    {
     "name": "stdout",
     "output_type": "stream",
     "text": [
      "sagemaker.config INFO - Not applying SDK defaults from location: C:\\ProgramData\\sagemaker\\sagemaker\\config.yaml\n",
      "sagemaker.config INFO - Not applying SDK defaults from location: C:\\Users\\Acer\\AppData\\Local\\sagemaker\\sagemaker\\config.yaml\n"
     ]
    }
   ],
   "source": [
    "from sagemaker import get_execution_role\n",
    "from sagemaker import Session\n",
    "\n",
    "role = 'arn:aws:iam::095498312899:role/service-role/AmazonSageMaker-ExecutionRole-20231026T100283'\n",
    "sess = Session()\n",
    "bucket = sess.default_bucket()\n",
    "\n",
    "import tensorflow as tf\n",
    "import keras\n",
    "from keras.models import load_model\n",
    "\n",
    "tf_framework_version = tf.__version__\n",
    "import h5py\n",
    "import numpy as np\n",
    "import os\n",
    "import tarfile\n",
    "from sagemaker.tensorflow.serving import TensorFlowModel"
   ],
   "metadata": {
    "collapsed": false,
    "ExecuteTime": {
     "end_time": "2023-10-29T05:22:24.185141300Z",
     "start_time": "2023-10-29T05:22:21.958786400Z"
    }
   }
  },
  {
   "cell_type": "code",
   "execution_count": 13,
   "outputs": [],
   "source": [
    "input_bucket = \"pteriscope\"\n",
    "prefix = \"PterygiumDetectionModel\"\n",
    "filename = \"ResNext50.zip\""
   ],
   "metadata": {
    "collapsed": false,
    "ExecuteTime": {
     "end_time": "2023-10-29T04:15:21.971388900Z",
     "start_time": "2023-10-29T04:15:21.959309800Z"
    }
   }
  },
  {
   "cell_type": "code",
   "execution_count": 17,
   "outputs": [],
   "source": [
    "inputs = sess.upload_data(path=filename, key_prefix='model')"
   ],
   "metadata": {
    "collapsed": false,
    "ExecuteTime": {
     "end_time": "2023-10-29T04:25:12.312290400Z",
     "start_time": "2023-10-29T04:24:54.223224600Z"
    }
   }
  },
  {
   "cell_type": "code",
   "execution_count": 14,
   "outputs": [],
   "source": [
    "!aws s3 cp s3://$input_bucket/ $filename"
   ],
   "metadata": {
    "collapsed": false,
    "ExecuteTime": {
     "end_time": "2023-10-29T04:15:25.903911800Z",
     "start_time": "2023-10-29T04:15:23.247759500Z"
    }
   }
  },
  {
   "cell_type": "code",
   "execution_count": 15,
   "outputs": [
    {
     "name": "stderr",
     "output_type": "stream",
     "text": [
      "\n",
      "usage: aws [options] <command> <subcommand> [<subcommand> ...] [parameters]\n",
      "To see help text, you can run:\n",
      "\n",
      "  aws help\n",
      "  aws <command> help\n",
      "  aws <command> <subcommand> help\n",
      "\n",
      "aws: error: argument subcommand: Invalid choice, valid choices are:\n",
      "\n",
      "ls                                       | website                                 \n",
      "cp                                       | mv                                      \n",
      "rm                                       | sync                                    \n",
      "mb                                       | rb                                      \n",
      "presign                                 \n",
      "\n"
     ]
    }
   ],
   "source": [
    "!aws s3 unzip model.zip -d keras_model"
   ],
   "metadata": {
    "collapsed": false,
    "ExecuteTime": {
     "end_time": "2023-10-29T04:21:42.667190500Z",
     "start_time": "2023-10-29T04:21:41.899191300Z"
    }
   }
  },
  {
   "cell_type": "code",
   "execution_count": null,
   "outputs": [],
   "source": [
    "import boto3\n",
    "\n",
    "s3 = boto3.client('s3')\n",
    "bucket_name = bucket\n",
    "\n",
    "# Obtener el modelo JSON desde S3\n",
    "obj = s3.get_object(Bucket=bucket_name, Key='model/resnext50_model.json')\n",
    "loaded_model_json = obj['Body'].read().decode('utf-8')\n",
    "loaded_model = keras.models.model_from_json(loaded_model_json)\n",
    "\n",
    "# Obtener los pesos del modelo desde S3\n",
    "s3.download_file(bucket_name, 'model/resnext50_weights_.hdf5', 'local_model.h5')\n",
    "loaded_model.load_weights('local_model.h5')\n",
    "loaded_model.summary()"
   ],
   "metadata": {
    "collapsed": false
   }
  },
  {
   "cell_type": "code",
   "execution_count": 18,
   "outputs": [
    {
     "ename": "FileNotFoundError",
     "evalue": "[Errno 2] No such file or directory: 'msagemaker-us-east-1-095498312899osagemaker-us-east-1-095498312899dsagemaker-us-east-1-095498312899esagemaker-us-east-1-095498312899lsagemaker-us-east-1-095498312899/sagemaker-us-east-1-095498312899rsagemaker-us-east-1-095498312899esagemaker-us-east-1-095498312899ssagemaker-us-east-1-095498312899nsagemaker-us-east-1-095498312899esagemaker-us-east-1-095498312899xsagemaker-us-east-1-095498312899tsagemaker-us-east-1-0954983128995sagemaker-us-east-1-0954983128990sagemaker-us-east-1-095498312899_sagemaker-us-east-1-095498312899msagemaker-us-east-1-095498312899osagemaker-us-east-1-095498312899dsagemaker-us-east-1-095498312899esagemaker-us-east-1-095498312899lsagemaker-us-east-1-095498312899.sagemaker-us-east-1-095498312899jsagemaker-us-east-1-095498312899ssagemaker-us-east-1-095498312899osagemaker-us-east-1-095498312899n'",
     "output_type": "error",
     "traceback": [
      "\u001B[1;31m---------------------------------------------------------------------------\u001B[0m",
      "\u001B[1;31mFileNotFoundError\u001B[0m                         Traceback (most recent call last)",
      "Cell \u001B[1;32mIn[18], line 1\u001B[0m\n\u001B[1;32m----> 1\u001B[0m \u001B[38;5;28;01mwith\u001B[39;00m \u001B[38;5;28;43mopen\u001B[39;49m\u001B[43m(\u001B[49m\u001B[43mbucket\u001B[49m\u001B[38;5;241;43m.\u001B[39;49m\u001B[43mjoin\u001B[49m\u001B[43m(\u001B[49m\u001B[38;5;124;43m'\u001B[39;49m\u001B[38;5;124;43mmodel/resnext50_model.json\u001B[39;49m\u001B[38;5;124;43m'\u001B[39;49m\u001B[43m)\u001B[49m\u001B[43m,\u001B[49m\u001B[43m \u001B[49m\u001B[38;5;124;43m'\u001B[39;49m\u001B[38;5;124;43mr\u001B[39;49m\u001B[38;5;124;43m'\u001B[39;49m\u001B[43m)\u001B[49m \u001B[38;5;28;01mas\u001B[39;00m fp:\n\u001B[0;32m      2\u001B[0m     loaded_model_json \u001B[38;5;241m=\u001B[39m fp\u001B[38;5;241m.\u001B[39mread()\n\u001B[0;32m      3\u001B[0m     loaded_model \u001B[38;5;241m=\u001B[39m keras\u001B[38;5;241m.\u001B[39mmodels\u001B[38;5;241m.\u001B[39mmodel_from_json(loaded_model_json)\n",
      "File \u001B[1;32mF:\\ProgramData\\anaconda3\\envs\\conda_env\\lib\\site-packages\\IPython\\core\\interactiveshell.py:284\u001B[0m, in \u001B[0;36m_modified_open\u001B[1;34m(file, *args, **kwargs)\u001B[0m\n\u001B[0;32m    277\u001B[0m \u001B[38;5;28;01mif\u001B[39;00m file \u001B[38;5;129;01min\u001B[39;00m {\u001B[38;5;241m0\u001B[39m, \u001B[38;5;241m1\u001B[39m, \u001B[38;5;241m2\u001B[39m}:\n\u001B[0;32m    278\u001B[0m     \u001B[38;5;28;01mraise\u001B[39;00m \u001B[38;5;167;01mValueError\u001B[39;00m(\n\u001B[0;32m    279\u001B[0m         \u001B[38;5;124mf\u001B[39m\u001B[38;5;124m\"\u001B[39m\u001B[38;5;124mIPython won\u001B[39m\u001B[38;5;124m'\u001B[39m\u001B[38;5;124mt let you open fd=\u001B[39m\u001B[38;5;132;01m{\u001B[39;00mfile\u001B[38;5;132;01m}\u001B[39;00m\u001B[38;5;124m by default \u001B[39m\u001B[38;5;124m\"\u001B[39m\n\u001B[0;32m    280\u001B[0m         \u001B[38;5;124m\"\u001B[39m\u001B[38;5;124mas it is likely to crash IPython. If you know what you are doing, \u001B[39m\u001B[38;5;124m\"\u001B[39m\n\u001B[0;32m    281\u001B[0m         \u001B[38;5;124m\"\u001B[39m\u001B[38;5;124myou can use builtins\u001B[39m\u001B[38;5;124m'\u001B[39m\u001B[38;5;124m open.\u001B[39m\u001B[38;5;124m\"\u001B[39m\n\u001B[0;32m    282\u001B[0m     )\n\u001B[1;32m--> 284\u001B[0m \u001B[38;5;28;01mreturn\u001B[39;00m \u001B[43mio_open\u001B[49m\u001B[43m(\u001B[49m\u001B[43mfile\u001B[49m\u001B[43m,\u001B[49m\u001B[43m \u001B[49m\u001B[38;5;241;43m*\u001B[39;49m\u001B[43margs\u001B[49m\u001B[43m,\u001B[49m\u001B[43m \u001B[49m\u001B[38;5;241;43m*\u001B[39;49m\u001B[38;5;241;43m*\u001B[39;49m\u001B[43mkwargs\u001B[49m\u001B[43m)\u001B[49m\n",
      "\u001B[1;31mFileNotFoundError\u001B[0m: [Errno 2] No such file or directory: 'msagemaker-us-east-1-095498312899osagemaker-us-east-1-095498312899dsagemaker-us-east-1-095498312899esagemaker-us-east-1-095498312899lsagemaker-us-east-1-095498312899/sagemaker-us-east-1-095498312899rsagemaker-us-east-1-095498312899esagemaker-us-east-1-095498312899ssagemaker-us-east-1-095498312899nsagemaker-us-east-1-095498312899esagemaker-us-east-1-095498312899xsagemaker-us-east-1-095498312899tsagemaker-us-east-1-0954983128995sagemaker-us-east-1-0954983128990sagemaker-us-east-1-095498312899_sagemaker-us-east-1-095498312899msagemaker-us-east-1-095498312899osagemaker-us-east-1-095498312899dsagemaker-us-east-1-095498312899esagemaker-us-east-1-095498312899lsagemaker-us-east-1-095498312899.sagemaker-us-east-1-095498312899jsagemaker-us-east-1-095498312899ssagemaker-us-east-1-095498312899osagemaker-us-east-1-095498312899n'"
     ]
    }
   ],
   "source": [
    "with open(bucket.join('model/resnext50_model.json'), 'r') as fp:\n",
    "    loaded_model_json = fp.read()\n",
    "    loaded_model = keras.models.model_from_json(loaded_model_json)\n",
    "loaded_model.load_weights(bucket.join('model/resnext50_weights_.hdf5'))\n",
    "loaded_model.summary()\n",
    "\n",
    "with open(os.path.join('keras_model/model', 'model.json'), 'r') as fp:\n",
    "    loaded_model_json = fp.read()\n",
    "    loaded_model = keras.models.model_from_json(loaded_model_json)\n",
    "loaded_model.load_weights('keras_model/model/model.h5')\n",
    "loaded_model.summary()"
   ],
   "metadata": {
    "collapsed": false,
    "ExecuteTime": {
     "end_time": "2023-10-29T04:46:26.625163400Z",
     "start_time": "2023-10-29T04:46:25.851164100Z"
    }
   }
  },
  {
   "cell_type": "code",
   "execution_count": 21,
   "outputs": [
    {
     "name": "stdout",
     "output_type": "stream",
     "text": [
      "WARNING:tensorflow:From F:\\ProgramData\\anaconda3\\envs\\conda_env\\lib\\site-packages\\keras\\layers\\normalization\\batch_normalization.py:562: _colocate_with (from tensorflow.python.framework.ops) is deprecated and will be removed in a future version.\n",
      "Instructions for updating:\n",
      "Colocations handled automatically by placer.\n"
     ]
    }
   ],
   "source": [
    "tf.compat.v1.disable_eager_execution()\n",
    "with open('saved_models/ResNext50/resnext50_model.json', 'r') as json_file:\n",
    "    json_savedModel= json_file.read()\n",
    "\n",
    "# Cargamos la arquitectura del modelo\n",
    "loaded_model = tf.keras.models.model_from_json(json_savedModel)\n",
    "loaded_model.load_weights('saved_models/ResNext50/resnext50_weights_.hdf5')"
   ],
   "metadata": {
    "collapsed": false,
    "ExecuteTime": {
     "end_time": "2023-10-29T05:03:42.168175Z",
     "start_time": "2023-10-29T05:03:20.206674400Z"
    }
   }
  },
  {
   "cell_type": "code",
   "execution_count": 24,
   "outputs": [
    {
     "name": "stderr",
     "output_type": "stream",
     "text": [
      "WARNING:absl:Found untraced functions such as _jit_compiled_convolution_op, _jit_compiled_convolution_op, _jit_compiled_convolution_op, _jit_compiled_convolution_op, _jit_compiled_convolution_op while saving (showing 5 of 549). These functions will not be directly callable after loading.\n"
     ]
    },
    {
     "name": "stdout",
     "output_type": "stream",
     "text": [
      "INFO:tensorflow:Assets written to: export/Servo/1\\assets\n"
     ]
    },
    {
     "name": "stderr",
     "output_type": "stream",
     "text": [
      "INFO:tensorflow:Assets written to: export/Servo/1\\assets\n"
     ]
    }
   ],
   "source": [
    "model_version = '1'\n",
    "export_dir = 'export/Servo/' + model_version\n",
    "tf.saved_model.save(loaded_model, export_dir)\n",
    "model_archive = 'resnext50.tar.gz'\n",
    "with tarfile.open(model_archive, mode='w:gz') as archive:\n",
    "    archive.add('export', recursive=True)\n",
    "    model_data = sess.upload_data(path=model_archive, key_prefix='model')"
   ],
   "metadata": {
    "collapsed": false,
    "ExecuteTime": {
     "end_time": "2023-10-29T05:08:22.525820900Z",
     "start_time": "2023-10-29T05:04:12.351098500Z"
    }
   }
  },
  {
   "cell_type": "code",
   "execution_count": 27,
   "outputs": [
    {
     "name": "stdout",
     "output_type": "stream",
     "text": [
      "sagemaker.config INFO - Not applying SDK defaults from location: C:\\ProgramData\\sagemaker\\sagemaker\\config.yaml\n",
      "sagemaker.config INFO - Not applying SDK defaults from location: C:\\Users\\Acer\\AppData\\Local\\sagemaker\\sagemaker\\config.yaml\n",
      "sagemaker.config INFO - Not applying SDK defaults from location: C:\\ProgramData\\sagemaker\\sagemaker\\config.yaml\n",
      "sagemaker.config INFO - Not applying SDK defaults from location: C:\\Users\\Acer\\AppData\\Local\\sagemaker\\sagemaker\\config.yaml\n",
      "-----------------------------*"
     ]
    },
    {
     "ename": "UnexpectedStatusException",
     "evalue": "Error hosting endpoint tensorflow-inference-2023-10-29-05-22-35-314: Failed. Reason:  Failed to extract model data archive for container \"container_1\" from URL \"s3://sagemaker-us-east-1-095498312899/model/resnext50.tar.gz\". Please ensure that the object located at the URL is a valid tar.gz archive..",
     "output_type": "error",
     "traceback": [
      "\u001B[1;31m---------------------------------------------------------------------------\u001B[0m",
      "\u001B[1;31mUnexpectedStatusException\u001B[0m                 Traceback (most recent call last)",
      "Cell \u001B[1;32mIn[27], line 3\u001B[0m\n\u001B[0;32m      1\u001B[0m instance_type \u001B[38;5;241m=\u001B[39m \u001B[38;5;124m'\u001B[39m\u001B[38;5;124mml.t2.medium\u001B[39m\u001B[38;5;124m'\u001B[39m\n\u001B[0;32m      2\u001B[0m sm_model \u001B[38;5;241m=\u001B[39m TensorFlowModel(model_data\u001B[38;5;241m=\u001B[39mmodel_data, framework_version\u001B[38;5;241m=\u001B[39mtf_framework_version, role\u001B[38;5;241m=\u001B[39mrole)\n\u001B[1;32m----> 3\u001B[0m predictor \u001B[38;5;241m=\u001B[39m \u001B[43msm_model\u001B[49m\u001B[38;5;241;43m.\u001B[39;49m\u001B[43mdeploy\u001B[49m\u001B[43m(\u001B[49m\u001B[43minitial_instance_count\u001B[49m\u001B[38;5;241;43m=\u001B[39;49m\u001B[38;5;241;43m1\u001B[39;49m\u001B[43m,\u001B[49m\u001B[43m \u001B[49m\u001B[43minstance_type\u001B[49m\u001B[38;5;241;43m=\u001B[39;49m\u001B[43minstance_type\u001B[49m\u001B[43m)\u001B[49m\n",
      "File \u001B[1;32mF:\\ProgramData\\anaconda3\\envs\\conda_env\\lib\\site-packages\\sagemaker\\tensorflow\\model.py:349\u001B[0m, in \u001B[0;36mTensorFlowModel.deploy\u001B[1;34m(self, initial_instance_count, instance_type, serializer, deserializer, accelerator_type, endpoint_name, tags, kms_key, wait, data_capture_config, async_inference_config, serverless_inference_config, volume_size, model_data_download_timeout, container_startup_health_check_timeout, inference_recommendation_id, explainer_config, **kwargs)\u001B[0m\n\u001B[0;32m    346\u001B[0m     msg \u001B[38;5;241m=\u001B[39m \u001B[38;5;124m\"\u001B[39m\u001B[38;5;124mThe TensorFlow version \u001B[39m\u001B[38;5;132;01m%s\u001B[39;00m\u001B[38;5;124m doesn\u001B[39m\u001B[38;5;124m'\u001B[39m\u001B[38;5;124mt support EIA.\u001B[39m\u001B[38;5;124m\"\u001B[39m \u001B[38;5;241m%\u001B[39m \u001B[38;5;28mself\u001B[39m\u001B[38;5;241m.\u001B[39mframework_version\n\u001B[0;32m    347\u001B[0m     \u001B[38;5;28;01mraise\u001B[39;00m \u001B[38;5;167;01mAttributeError\u001B[39;00m(msg)\n\u001B[1;32m--> 349\u001B[0m \u001B[38;5;28;01mreturn\u001B[39;00m \u001B[38;5;28;43msuper\u001B[39;49m\u001B[43m(\u001B[49m\u001B[43mTensorFlowModel\u001B[49m\u001B[43m,\u001B[49m\u001B[43m \u001B[49m\u001B[38;5;28;43mself\u001B[39;49m\u001B[43m)\u001B[49m\u001B[38;5;241;43m.\u001B[39;49m\u001B[43mdeploy\u001B[49m\u001B[43m(\u001B[49m\n\u001B[0;32m    350\u001B[0m \u001B[43m    \u001B[49m\u001B[43minitial_instance_count\u001B[49m\u001B[38;5;241;43m=\u001B[39;49m\u001B[43minitial_instance_count\u001B[49m\u001B[43m,\u001B[49m\n\u001B[0;32m    351\u001B[0m \u001B[43m    \u001B[49m\u001B[43minstance_type\u001B[49m\u001B[38;5;241;43m=\u001B[39;49m\u001B[43minstance_type\u001B[49m\u001B[43m,\u001B[49m\n\u001B[0;32m    352\u001B[0m \u001B[43m    \u001B[49m\u001B[43mserializer\u001B[49m\u001B[38;5;241;43m=\u001B[39;49m\u001B[43mserializer\u001B[49m\u001B[43m,\u001B[49m\n\u001B[0;32m    353\u001B[0m \u001B[43m    \u001B[49m\u001B[43mdeserializer\u001B[49m\u001B[38;5;241;43m=\u001B[39;49m\u001B[43mdeserializer\u001B[49m\u001B[43m,\u001B[49m\n\u001B[0;32m    354\u001B[0m \u001B[43m    \u001B[49m\u001B[43maccelerator_type\u001B[49m\u001B[38;5;241;43m=\u001B[39;49m\u001B[43maccelerator_type\u001B[49m\u001B[43m,\u001B[49m\n\u001B[0;32m    355\u001B[0m \u001B[43m    \u001B[49m\u001B[43mendpoint_name\u001B[49m\u001B[38;5;241;43m=\u001B[39;49m\u001B[43mendpoint_name\u001B[49m\u001B[43m,\u001B[49m\n\u001B[0;32m    356\u001B[0m \u001B[43m    \u001B[49m\u001B[43mtags\u001B[49m\u001B[38;5;241;43m=\u001B[39;49m\u001B[43mtags\u001B[49m\u001B[43m,\u001B[49m\n\u001B[0;32m    357\u001B[0m \u001B[43m    \u001B[49m\u001B[43mkms_key\u001B[49m\u001B[38;5;241;43m=\u001B[39;49m\u001B[43mkms_key\u001B[49m\u001B[43m,\u001B[49m\n\u001B[0;32m    358\u001B[0m \u001B[43m    \u001B[49m\u001B[43mwait\u001B[49m\u001B[38;5;241;43m=\u001B[39;49m\u001B[43mwait\u001B[49m\u001B[43m,\u001B[49m\n\u001B[0;32m    359\u001B[0m \u001B[43m    \u001B[49m\u001B[43mdata_capture_config\u001B[49m\u001B[38;5;241;43m=\u001B[39;49m\u001B[43mdata_capture_config\u001B[49m\u001B[43m,\u001B[49m\n\u001B[0;32m    360\u001B[0m \u001B[43m    \u001B[49m\u001B[43masync_inference_config\u001B[49m\u001B[38;5;241;43m=\u001B[39;49m\u001B[43masync_inference_config\u001B[49m\u001B[43m,\u001B[49m\n\u001B[0;32m    361\u001B[0m \u001B[43m    \u001B[49m\u001B[43mserverless_inference_config\u001B[49m\u001B[38;5;241;43m=\u001B[39;49m\u001B[43mserverless_inference_config\u001B[49m\u001B[43m,\u001B[49m\n\u001B[0;32m    362\u001B[0m \u001B[43m    \u001B[49m\u001B[43mvolume_size\u001B[49m\u001B[38;5;241;43m=\u001B[39;49m\u001B[43mvolume_size\u001B[49m\u001B[43m,\u001B[49m\n\u001B[0;32m    363\u001B[0m \u001B[43m    \u001B[49m\u001B[43mmodel_data_download_timeout\u001B[49m\u001B[38;5;241;43m=\u001B[39;49m\u001B[43mmodel_data_download_timeout\u001B[49m\u001B[43m,\u001B[49m\n\u001B[0;32m    364\u001B[0m \u001B[43m    \u001B[49m\u001B[43mcontainer_startup_health_check_timeout\u001B[49m\u001B[38;5;241;43m=\u001B[39;49m\u001B[43mcontainer_startup_health_check_timeout\u001B[49m\u001B[43m,\u001B[49m\n\u001B[0;32m    365\u001B[0m \u001B[43m    \u001B[49m\u001B[43minference_recommendation_id\u001B[49m\u001B[38;5;241;43m=\u001B[39;49m\u001B[43minference_recommendation_id\u001B[49m\u001B[43m,\u001B[49m\n\u001B[0;32m    366\u001B[0m \u001B[43m    \u001B[49m\u001B[43mexplainer_config\u001B[49m\u001B[38;5;241;43m=\u001B[39;49m\u001B[43mexplainer_config\u001B[49m\u001B[43m,\u001B[49m\n\u001B[0;32m    367\u001B[0m \u001B[43m    \u001B[49m\u001B[38;5;241;43m*\u001B[39;49m\u001B[38;5;241;43m*\u001B[39;49m\u001B[43mkwargs\u001B[49m\u001B[43m,\u001B[49m\n\u001B[0;32m    368\u001B[0m \u001B[43m\u001B[49m\u001B[43m)\u001B[49m\n",
      "File \u001B[1;32mF:\\ProgramData\\anaconda3\\envs\\conda_env\\lib\\site-packages\\sagemaker\\model.py:1495\u001B[0m, in \u001B[0;36mModel.deploy\u001B[1;34m(self, initial_instance_count, instance_type, serializer, deserializer, accelerator_type, endpoint_name, tags, kms_key, wait, data_capture_config, async_inference_config, serverless_inference_config, volume_size, model_data_download_timeout, container_startup_health_check_timeout, inference_recommendation_id, explainer_config, **kwargs)\u001B[0m\n\u001B[0;32m   1492\u001B[0m \u001B[38;5;28;01mif\u001B[39;00m is_explainer_enabled:\n\u001B[0;32m   1493\u001B[0m     explainer_config_dict \u001B[38;5;241m=\u001B[39m explainer_config\u001B[38;5;241m.\u001B[39m_to_request_dict()\n\u001B[1;32m-> 1495\u001B[0m \u001B[38;5;28;43mself\u001B[39;49m\u001B[38;5;241;43m.\u001B[39;49m\u001B[43msagemaker_session\u001B[49m\u001B[38;5;241;43m.\u001B[39;49m\u001B[43mendpoint_from_production_variants\u001B[49m\u001B[43m(\u001B[49m\n\u001B[0;32m   1496\u001B[0m \u001B[43m    \u001B[49m\u001B[43mname\u001B[49m\u001B[38;5;241;43m=\u001B[39;49m\u001B[38;5;28;43mself\u001B[39;49m\u001B[38;5;241;43m.\u001B[39;49m\u001B[43mendpoint_name\u001B[49m\u001B[43m,\u001B[49m\n\u001B[0;32m   1497\u001B[0m \u001B[43m    \u001B[49m\u001B[43mproduction_variants\u001B[49m\u001B[38;5;241;43m=\u001B[39;49m\u001B[43m[\u001B[49m\u001B[43mproduction_variant\u001B[49m\u001B[43m]\u001B[49m\u001B[43m,\u001B[49m\n\u001B[0;32m   1498\u001B[0m \u001B[43m    \u001B[49m\u001B[43mtags\u001B[49m\u001B[38;5;241;43m=\u001B[39;49m\u001B[43mtags\u001B[49m\u001B[43m,\u001B[49m\n\u001B[0;32m   1499\u001B[0m \u001B[43m    \u001B[49m\u001B[43mkms_key\u001B[49m\u001B[38;5;241;43m=\u001B[39;49m\u001B[43mkms_key\u001B[49m\u001B[43m,\u001B[49m\n\u001B[0;32m   1500\u001B[0m \u001B[43m    \u001B[49m\u001B[43mwait\u001B[49m\u001B[38;5;241;43m=\u001B[39;49m\u001B[43mwait\u001B[49m\u001B[43m,\u001B[49m\n\u001B[0;32m   1501\u001B[0m \u001B[43m    \u001B[49m\u001B[43mdata_capture_config_dict\u001B[49m\u001B[38;5;241;43m=\u001B[39;49m\u001B[43mdata_capture_config_dict\u001B[49m\u001B[43m,\u001B[49m\n\u001B[0;32m   1502\u001B[0m \u001B[43m    \u001B[49m\u001B[43mexplainer_config_dict\u001B[49m\u001B[38;5;241;43m=\u001B[39;49m\u001B[43mexplainer_config_dict\u001B[49m\u001B[43m,\u001B[49m\n\u001B[0;32m   1503\u001B[0m \u001B[43m    \u001B[49m\u001B[43masync_inference_config_dict\u001B[49m\u001B[38;5;241;43m=\u001B[39;49m\u001B[43masync_inference_config_dict\u001B[49m\u001B[43m,\u001B[49m\n\u001B[0;32m   1504\u001B[0m \u001B[43m\u001B[49m\u001B[43m)\u001B[49m\n\u001B[0;32m   1506\u001B[0m \u001B[38;5;28;01mif\u001B[39;00m \u001B[38;5;28mself\u001B[39m\u001B[38;5;241m.\u001B[39mpredictor_cls:\n\u001B[0;32m   1507\u001B[0m     predictor \u001B[38;5;241m=\u001B[39m \u001B[38;5;28mself\u001B[39m\u001B[38;5;241m.\u001B[39mpredictor_cls(\u001B[38;5;28mself\u001B[39m\u001B[38;5;241m.\u001B[39mendpoint_name, \u001B[38;5;28mself\u001B[39m\u001B[38;5;241m.\u001B[39msagemaker_session)\n",
      "File \u001B[1;32mF:\\ProgramData\\anaconda3\\envs\\conda_env\\lib\\site-packages\\sagemaker\\session.py:4851\u001B[0m, in \u001B[0;36mSession.endpoint_from_production_variants\u001B[1;34m(self, name, production_variants, tags, kms_key, wait, data_capture_config_dict, async_inference_config_dict, explainer_config_dict)\u001B[0m\n\u001B[0;32m   4848\u001B[0m LOGGER\u001B[38;5;241m.\u001B[39minfo(\u001B[38;5;124m\"\u001B[39m\u001B[38;5;124mCreating endpoint-config with name \u001B[39m\u001B[38;5;132;01m%s\u001B[39;00m\u001B[38;5;124m\"\u001B[39m, name)\n\u001B[0;32m   4849\u001B[0m \u001B[38;5;28mself\u001B[39m\u001B[38;5;241m.\u001B[39msagemaker_client\u001B[38;5;241m.\u001B[39mcreate_endpoint_config(\u001B[38;5;241m*\u001B[39m\u001B[38;5;241m*\u001B[39mconfig_options)\n\u001B[1;32m-> 4851\u001B[0m \u001B[38;5;28;01mreturn\u001B[39;00m \u001B[38;5;28;43mself\u001B[39;49m\u001B[38;5;241;43m.\u001B[39;49m\u001B[43mcreate_endpoint\u001B[49m\u001B[43m(\u001B[49m\n\u001B[0;32m   4852\u001B[0m \u001B[43m    \u001B[49m\u001B[43mendpoint_name\u001B[49m\u001B[38;5;241;43m=\u001B[39;49m\u001B[43mname\u001B[49m\u001B[43m,\u001B[49m\u001B[43m \u001B[49m\u001B[43mconfig_name\u001B[49m\u001B[38;5;241;43m=\u001B[39;49m\u001B[43mname\u001B[49m\u001B[43m,\u001B[49m\u001B[43m \u001B[49m\u001B[43mtags\u001B[49m\u001B[38;5;241;43m=\u001B[39;49m\u001B[43mendpoint_tags\u001B[49m\u001B[43m,\u001B[49m\u001B[43m \u001B[49m\u001B[43mwait\u001B[49m\u001B[38;5;241;43m=\u001B[39;49m\u001B[43mwait\u001B[49m\n\u001B[0;32m   4853\u001B[0m \u001B[43m\u001B[49m\u001B[43m)\u001B[49m\n",
      "File \u001B[1;32mF:\\ProgramData\\anaconda3\\envs\\conda_env\\lib\\site-packages\\sagemaker\\session.py:4196\u001B[0m, in \u001B[0;36mSession.create_endpoint\u001B[1;34m(self, endpoint_name, config_name, tags, wait)\u001B[0m\n\u001B[0;32m   4192\u001B[0m \u001B[38;5;28mself\u001B[39m\u001B[38;5;241m.\u001B[39msagemaker_client\u001B[38;5;241m.\u001B[39mcreate_endpoint(\n\u001B[0;32m   4193\u001B[0m     EndpointName\u001B[38;5;241m=\u001B[39mendpoint_name, EndpointConfigName\u001B[38;5;241m=\u001B[39mconfig_name, Tags\u001B[38;5;241m=\u001B[39mtags\n\u001B[0;32m   4194\u001B[0m )\n\u001B[0;32m   4195\u001B[0m \u001B[38;5;28;01mif\u001B[39;00m wait:\n\u001B[1;32m-> 4196\u001B[0m     \u001B[38;5;28;43mself\u001B[39;49m\u001B[38;5;241;43m.\u001B[39;49m\u001B[43mwait_for_endpoint\u001B[49m\u001B[43m(\u001B[49m\u001B[43mendpoint_name\u001B[49m\u001B[43m)\u001B[49m\n\u001B[0;32m   4197\u001B[0m \u001B[38;5;28;01mreturn\u001B[39;00m endpoint_name\n",
      "File \u001B[1;32mF:\\ProgramData\\anaconda3\\envs\\conda_env\\lib\\site-packages\\sagemaker\\session.py:4548\u001B[0m, in \u001B[0;36mSession.wait_for_endpoint\u001B[1;34m(self, endpoint, poll)\u001B[0m\n\u001B[0;32m   4542\u001B[0m     \u001B[38;5;28;01mif\u001B[39;00m \u001B[38;5;124m\"\u001B[39m\u001B[38;5;124mCapacityError\u001B[39m\u001B[38;5;124m\"\u001B[39m \u001B[38;5;129;01min\u001B[39;00m \u001B[38;5;28mstr\u001B[39m(reason):\n\u001B[0;32m   4543\u001B[0m         \u001B[38;5;28;01mraise\u001B[39;00m exceptions\u001B[38;5;241m.\u001B[39mCapacityError(\n\u001B[0;32m   4544\u001B[0m             message\u001B[38;5;241m=\u001B[39mmessage,\n\u001B[0;32m   4545\u001B[0m             allowed_statuses\u001B[38;5;241m=\u001B[39m[\u001B[38;5;124m\"\u001B[39m\u001B[38;5;124mInService\u001B[39m\u001B[38;5;124m\"\u001B[39m],\n\u001B[0;32m   4546\u001B[0m             actual_status\u001B[38;5;241m=\u001B[39mstatus,\n\u001B[0;32m   4547\u001B[0m         )\n\u001B[1;32m-> 4548\u001B[0m     \u001B[38;5;28;01mraise\u001B[39;00m exceptions\u001B[38;5;241m.\u001B[39mUnexpectedStatusException(\n\u001B[0;32m   4549\u001B[0m         message\u001B[38;5;241m=\u001B[39mmessage,\n\u001B[0;32m   4550\u001B[0m         allowed_statuses\u001B[38;5;241m=\u001B[39m[\u001B[38;5;124m\"\u001B[39m\u001B[38;5;124mInService\u001B[39m\u001B[38;5;124m\"\u001B[39m],\n\u001B[0;32m   4551\u001B[0m         actual_status\u001B[38;5;241m=\u001B[39mstatus,\n\u001B[0;32m   4552\u001B[0m     )\n\u001B[0;32m   4553\u001B[0m \u001B[38;5;28;01mreturn\u001B[39;00m desc\n",
      "\u001B[1;31mUnexpectedStatusException\u001B[0m: Error hosting endpoint tensorflow-inference-2023-10-29-05-22-35-314: Failed. Reason:  Failed to extract model data archive for container \"container_1\" from URL \"s3://sagemaker-us-east-1-095498312899/model/resnext50.tar.gz\". Please ensure that the object located at the URL is a valid tar.gz archive.."
     ]
    }
   ],
   "source": [
    "instance_type = 'ml.t2.medium'\n",
    "sm_model = TensorFlowModel(model_data=model_data, framework_version=tf_framework_version, role=role)\n",
    "predictor = sm_model.deploy(initial_instance_count=1, instance_type=instance_type)"
   ],
   "metadata": {
    "collapsed": false,
    "ExecuteTime": {
     "end_time": "2023-10-29T05:37:43.015481500Z",
     "start_time": "2023-10-29T05:22:32.057502500Z"
    }
   }
  }
 ],
 "metadata": {
  "kernelspec": {
   "display_name": "Python 3",
   "language": "python",
   "name": "python3"
  },
  "language_info": {
   "codemirror_mode": {
    "name": "ipython",
    "version": 2
   },
   "file_extension": ".py",
   "mimetype": "text/x-python",
   "name": "python",
   "nbconvert_exporter": "python",
   "pygments_lexer": "ipython2",
   "version": "2.7.6"
  }
 },
 "nbformat": 4,
 "nbformat_minor": 0
}
